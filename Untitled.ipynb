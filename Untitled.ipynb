{
 "cells": [
  {
   "cell_type": "code",
   "execution_count": 15,
   "id": "0a4d67a0-b00b-4497-ba1a-4c5b80a98e96",
   "metadata": {
    "tags": []
   },
   "outputs": [
    {
     "name": "stdout",
     "output_type": "stream",
     "text": [
      "Fingerprint class name:\n",
      "   ExplicitBitVect\n",
      "\n",
      "Number of bits set:\n",
      "   21\n",
      "\n",
      "Indices of bits set:\n",
      "   [80, 104, 193, 310, 315, 589, 807, 875, 937, 981, 1168, 1171, 1243, 1380, 1475, 1602, 1607, 1750, 1754, 1840, 1873]\n",
      "\n",
      "Bit list:\n",
      "   [0, 0, 0, 0, 0, 0, 0, 0, 0, 0] ... (showing first 10)\n",
      "\n",
      "Numpy array:\n",
      "   [0 0 0 0 0 0 0 0 0 0] ... (showing first 10)\n",
      "\n"
     ]
    }
   ],
   "source": [
    "fingerprint = %openadd fp calc for C1=CC(=C(C=C1CCN)O)O\n",
    "\n",
    "# The fingerprint is an ExplicitBitVect object\n",
    "print(f\"Fingerprint class name:\\n   {type(fingerprint).__name__}\\n\")\n",
    "\n",
    "# Number of bits in the fingerprint\n",
    "num_bits_set = fingerprint.GetNumOnBits()\n",
    "print(f\"Number of bits set:\\n   {num_bits_set}\\n\")\n",
    "\n",
    "# The indices of the bits that are set\n",
    "on_bits = list(fingerprint.GetOnBits())\n",
    "print(f\"Indices of bits set:\\n   {on_bits}\\n\")\n",
    "\n",
    "# Convert the fingerprint to a list of integers (0 or 1)\n",
    "bit_list = list(fingerprint)\n",
    "print(f\"Bit list:\\n   {bit_list[:10]} ... (showing first 10)\\n\")\n",
    "\n",
    "# Convert the fingerprint to a numpy array (useful for machine learning)\n",
    "import numpy as np\n",
    "fingerprint_array = np.array(fingerprint)\n",
    "print(f\"Numpy array:\\n   {fingerprint_array[:10]} ... (showing first 10)\\n\")"
   ]
  }
 ],
 "metadata": {
  "kernelspec": {
   "display_name": "ad-venv",
   "language": "python",
   "name": "ad-venv"
  },
  "language_info": {
   "codemirror_mode": {
    "name": "ipython",
    "version": 3
   },
   "file_extension": ".py",
   "mimetype": "text/x-python",
   "name": "python",
   "nbconvert_exporter": "python",
   "pygments_lexer": "ipython3",
   "version": "3.10.14"
  }
 },
 "nbformat": 4,
 "nbformat_minor": 5
}
