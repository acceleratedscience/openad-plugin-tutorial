{
 "cells": [
  {
   "cell_type": "code",
   "execution_count": 4,
   "id": "22d4571c-f45c-457f-a11f-c28a08f57721",
   "metadata": {
    "tags": []
   },
   "outputs": [
    {
     "name": "stdout",
     "output_type": "stream",
     "text": [
      "2024.03.5\n"
     ]
    }
   ],
   "source": [
    "import matplotlib\n",
    "from rdkit import Chem\n",
    "from rdkit.Chem import rdFingerprintGenerator\n",
    "from rdkit.Chem.Draw import IPythonConsole\n",
    "from rdkit import DataStructs\n",
    "import rdkit\n",
    "print(rdkit.__version__)\n",
    "%matplotlib inline"
   ]
  },
  {
   "cell_type": "code",
   "execution_count": 12,
   "id": "f17bd089-7a32-4718-979e-43408b5036ac",
   "metadata": {
    "tags": []
   },
   "outputs": [],
   "source": [
    "mfpgen = rdFingerprintGenerator.GetMorganGenerator(radius=2,fpSize=2048)\n",
    "rdkgen = rdFingerprintGenerator.GetRDKitFPGenerator(fpSize=2048)\n",
    "apgen = rdFingerprintGenerator.GetAtomPairGenerator(fpSize=2048)\n",
    "ttgen = rdFingerprintGenerator.GetTopologicalTorsionGenerator(fpSize=2048)\n",
    "\n",
    "# Feature Morgan fingerprints are created using a Morgan generator which uses a different method of assigning atom invariants (atom types)\n",
    "fmgen = rdFingerprintGenerator.GetMorganGenerator(radius=2,fpSize=2, atomInvariantsGenerator=rdFingerprintGenerator.GetMorganFeatureAtomInvGen())"
   ]
  },
  {
   "cell_type": "code",
   "execution_count": 20,
   "id": "c8017bd6-ba2c-495f-bce7-59ed59dcff86",
   "metadata": {
    "tags": []
   },
   "outputs": [],
   "source": [
    "ms = ['c1ccc(CCc2ccccc2)cc1', 'CCc1cccc2ccccc12', 'Cc1cc(C)c2ccccc2c1', 'c1ccc2cc3ccccc3cc2c1']\n",
    "\n",
    "m = Chem.MolFromSmiles(ms[0])\n",
    "\n",
    "# bit vectors:\n",
    "fp = mfpgen.GetFingerprint(m) # returns a bit vector of size fpSize\n",
    "sfp = mfpgen.GetSparseFingerprint(m) # returns a sparse bit vector\n",
    "\n",
    "# count vectors:\n",
    "cfp = mfpgen.GetCountFingerprint(m) # returns a count vector of size fpSize\n",
    "scfp = mfpgen.GetSparseCountFingerprint(m) # returns a sparse count vector\n",
    "\n",
    "# Other generators:\n",
    "rdkfp = rdkgen.GetFingerprint(m)\n",
    "apfp = apgen.GetFingerprint(m)\n",
    "ttfp = ttgen.GetFingerprint(m)\n",
    "fmfp = fmgen.GetFingerprint(m)"
   ]
  },
  {
   "cell_type": "code",
   "execution_count": 22,
   "id": "2a044c11-1f68-477d-a8a6-45bb5b6d630f",
   "metadata": {
    "tags": []
   },
   "outputs": [
    {
     "name": "stdout",
     "output_type": "stream",
     "text": [
      "<rdkit.DataStructs.cDataStructs.ExplicitBitVect object at 0x1206df220>\n",
      "<rdkit.DataStructs.cDataStructs.SparseBitVect object at 0x1206dfd80>\n",
      "<rdkit.DataStructs.cDataStructs.UIntSparseIntVect object at 0x1206df7d0>\n",
      "<rdkit.DataStructs.cDataStructs.ULongSparseIntVect object at 0x1206dfd10>\n",
      "<rdkit.DataStructs.cDataStructs.ExplicitBitVect object at 0x1206dfdf0>\n",
      "<rdkit.DataStructs.cDataStructs.ExplicitBitVect object at 0x1206dedc0>\n",
      "<rdkit.DataStructs.cDataStructs.ExplicitBitVect object at 0x1206ded50>\n"
     ]
    }
   ],
   "source": [
    "print(fp)\n",
    "print(sfp)\n",
    "print(cfp)\n",
    "print(scfp)\n",
    "print(rdkfp)\n",
    "print(apfp)\n",
    "print(ttfp)"
   ]
  },
  {
   "cell_type": "code",
   "execution_count": 24,
   "id": "e2c5d794-2242-4cb6-8e0d-04551aae4cf7",
   "metadata": {
    "tags": []
   },
   "outputs": [
    {
     "name": "stdout",
     "output_type": "stream",
     "text": [
      "Help on built-in function GetRDKitFPGenerator in module rdkit.Chem.rdFingerprintGenerator:\n",
      "\n",
      "GetRDKitFPGenerator(...)\n",
      "    GetRDKitFPGenerator([  (int)minPath=1 [, (int)maxPath=7 [, (bool)useHs=True [, (bool)branchedPaths=True [, (bool)useBondOrder=True [, (bool)countSimulation=False [, (object)countBounds=None [, (int)fpSize=2048 [, (int)numBitsPerFeature=2 [, (object)atomInvariantsGenerator=None]]]]]]]]]]) -> FingeprintGenerator64 :\n",
      "        Get an RDKit fingerprint generator\n",
      "        \n",
      "          ARGUMENTS:\n",
      "            - minPath: the minimum path length (in bonds) to be included\n",
      "            - maxPath: the maximum path length (in bonds) to be included\n",
      "            - useHs: toggles inclusion of Hs in paths (if the molecule has explicit Hs)\n",
      "            - branchedPaths: toggles generation of branched subgraphs, not just linear paths\n",
      "            - useBondOrder: toggles inclusion of bond orders in the path hashes\n",
      "            - countSimulation:  if set, use count simulation while  generating the fingerprint\n",
      "            - countBounds: boundaries for count simulation, corresponding bit will be  set if the count is higher than the number provided for that spot\n",
      "            - fpSize: size of the generated fingerprint, does not affect the sparse versions\n",
      "            - numBitsPerFeature: the number of bits set per path/subgraph found\n",
      "            - atomInvariantsGenerator: atom invariants to be used during fingerprint generation\n",
      "        \n",
      "        This generator supports the following AdditionalOutput types:\n",
      "            - atomToBits: which bits each atom is involved in\n",
      "            - atomCounts: how many bits each atom sets\n",
      "            - bitPaths: map from bitId to vectors of bond indices for the individual subgraphs\n",
      "        \n",
      "          RETURNS: FingerprintGenerator\n",
      "        \n",
      "        \n",
      "    \n",
      "        C++ signature :\n",
      "            RDKit::FingerprintGenerator<unsigned long long>* GetRDKitFPGenerator([ unsigned int=1 [,unsigned int=7 [,bool=True [,bool=True [,bool=True [,bool=False [,boost::python::api::object {lvalue}=None [,unsigned int=2048 [,unsigned int=2 [,boost::python::api::object {lvalue}=None]]]]]]]]]])\n",
      "\n"
     ]
    }
   ],
   "source": [
    "help(rdFingerprintGenerator.GetRDKitFPGenerator)"
   ]
  },
  {
   "cell_type": "code",
   "execution_count": 28,
   "id": "7b8f15f8-ab5f-4b89-9452-0944c5f3177f",
   "metadata": {
    "tags": []
   },
   "outputs": [
    {
     "name": "stdout",
     "output_type": "stream",
     "text": [
      "[4, 27, 35, 103, 120, 143, 161, 183, 194, 235, 294, 330, 349, 368, 418, 441, 446, 455, 464, 508, 536, 540, 608, 617, 661, 696, 704, 744, 767, 792, 805, 812, 824, 826, 830, 842, 854, 855, 879, 898, 899, 915, 930, 977, 988, 1013, 1026, 1046, 1060, 1064, 1082, 1094, 1219, 1230, 1251, 1261, 1287, 1308, 1329, 1333, 1338, 1342, 1343, 1344, 1384, 1456, 1469, 1470, 1483, 1519, 1523, 1545, 1553, 1577, 1585, 1677, 1699, 1717, 1755, 1772, 1784, 1792, 1806, 1814, 1816, 1872, 1888, 1889, 1907, 1909, 1941, 1959, 1975, 2021, 2038]\n"
     ]
    }
   ],
   "source": [
    "import json\n",
    "from rdkit import Chem\n",
    "from rdkit.Chem import rdFingerprintGenerator\n",
    "from rdkit import DataStructs\n",
    "\n",
    "def fp_to_list(fp):\n",
    "    \"\"\"Convert an RDKit fingerprint object into a list\"\"\"\n",
    "    bit_indices = list(fp.GetOnBits())\n",
    "    return bit_indices\n",
    "\n",
    "def list_to_fp(fp_list):\n",
    "    \"\"\"Convert a fingerprint list to an RDKit fingerprint object\"\"\"\n",
    "    bit_indices = data[\"fingerprint\"]\n",
    "    fp = DataStructs.ExplicitBitVect(2048)\n",
    "    for idx in bit_indices:\n",
    "        fp[idx] = 1\n",
    "    return fp\n",
    "\n",
    "# Example usage\n",
    "mol = Chem.MolFromSmiles('c1ccc(CCc2ccccc2)cc1')\n",
    "filepath = \"fingerprint.json\"\n",
    "fingerprint_to_json(mol, filepath)\n",
    "loaded_fp = fingerprint_from_json(filepath)\n",
    "\n",
    "#Verify the result.\n",
    "rdkgen = rdFingerprintGenerator.GetRDKitFPGenerator(fpSize=2048)\n",
    "original_fp = rdkgen.GetFingerprint(mol)\n",
    "\n",
    "print(DataStructs.TanimotoSimilarity(original_fp, loaded_fp))"
   ]
  }
 ],
 "metadata": {
  "kernelspec": {
   "display_name": "Python 3 (ipykernel)",
   "language": "python",
   "name": "python3"
  },
  "language_info": {
   "codemirror_mode": {
    "name": "ipython",
    "version": 3
   },
   "file_extension": ".py",
   "mimetype": "text/x-python",
   "name": "python",
   "nbconvert_exporter": "python",
   "pygments_lexer": "ipython3",
   "version": "3.11.9"
  }
 },
 "nbformat": 4,
 "nbformat_minor": 5
}
